{
 "cells": [
  {
   "cell_type": "code",
   "execution_count": null,
   "metadata": {},
   "outputs": [],
   "source": [
    "import bibliograph as bg\n",
    "\n",
    "bibtex_fname = \"bibliograph/test_data/bibtex_test_data_short.bib\"\n",
    "entry_syntax_fname = \"bibliograph/resources/default_bibtex_syntax.csv\"\n",
    "\n",
    "tn = bg.slurp_bibtex(\n",
    "    bibtex_fname,\n",
    "    entry_syntax_fname,\n",
    "    syntax_case_sensitive=False,\n",
    "    space_char='|',\n",
    "    na_string_values='!',\n",
    "    na_node_type='missing'\n",
    ")\n",
    "\n",
    "tn.strings"
   ]
  },
  {
   "cell_type": "code",
   "execution_count": 18,
   "metadata": {},
   "outputs": [],
   "source": [
    "    import bibliograph as bg\n",
    "\n",
    "    tn = bg.slurp_shorthand(\n",
    "        'bibliograph/test_data/manual_annotation.shnd',\n",
    "        \"bibliograph/resources/default_entry_syntax.csv\",\n",
    "        link_syntax_fname=\"bibliograph/resources/default_link_syntax.csv\",\n",
    "        syntax_case_sensitive=False,\n",
    "        item_separator='__',\n",
    "        default_entry_prefix='wrk',\n",
    "        space_char='|',\n",
    "        na_string_values='!',\n",
    "        na_node_type='missing',\n",
    "        skiprows=2,\n",
    "        comment_char='#'\n",
    "    )\n",
    "\n",
    "    shorthand_text_string = tn.strings.query('node_type_id == 0')\n",
    "    assert (shorthand_text_string.string.squeeze().startswith(\n",
    "        'This is stuff shorthand ignores'\n",
    "    ))"
   ]
  },
  {
   "cell_type": "code",
   "execution_count": null,
   "metadata": {},
   "outputs": [],
   "source": []
  }
 ],
 "metadata": {
  "kernelspec": {
   "display_name": "Python 3.9.13 64-bit (windows store)",
   "language": "python",
   "name": "python3"
  },
  "language_info": {
   "codemirror_mode": {
    "name": "ipython",
    "version": 3
   },
   "file_extension": ".py",
   "mimetype": "text/x-python",
   "name": "python",
   "nbconvert_exporter": "python",
   "pygments_lexer": "ipython3",
   "version": "3.9.13"
  },
  "orig_nbformat": 4,
  "vscode": {
   "interpreter": {
    "hash": "815b2be54127abaf32a64efea7cd3ff17cdf2bced9eda4b4c37568bb3e1c75a5"
   }
  }
 },
 "nbformat": 4,
 "nbformat_minor": 2
}
