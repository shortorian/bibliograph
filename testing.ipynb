{
 "cells": [
  {
   "cell_type": "code",
   "execution_count": 1,
   "metadata": {},
   "outputs": [
    {
     "data": {
      "text/html": [
       "<div>\n",
       "<style scoped>\n",
       "    .dataframe tbody tr th:only-of-type {\n",
       "        vertical-align: middle;\n",
       "    }\n",
       "\n",
       "    .dataframe tbody tr th {\n",
       "        vertical-align: top;\n",
       "    }\n",
       "\n",
       "    .dataframe thead th {\n",
       "        text-align: right;\n",
       "    }\n",
       "</style>\n",
       "<table border=\"1\" class=\"dataframe\">\n",
       "  <thead>\n",
       "    <tr style=\"text-align: right;\">\n",
       "      <th></th>\n",
       "      <th>string</th>\n",
       "      <th>node_type_id</th>\n",
       "      <th>date_inserted</th>\n",
       "      <th>date_modified</th>\n",
       "    </tr>\n",
       "  </thead>\n",
       "  <tbody>\n",
       "    <tr>\n",
       "      <th>0</th>\n",
       "      <td>638</td>\n",
       "      <td>4</td>\n",
       "      <td>2022-07-19 13:17:27</td>\n",
       "      <td>&lt;NA&gt;</td>\n",
       "    </tr>\n",
       "    <tr>\n",
       "      <th>1</th>\n",
       "      <td>641</td>\n",
       "      <td>4</td>\n",
       "      <td>2022-07-19 13:17:27</td>\n",
       "      <td>&lt;NA&gt;</td>\n",
       "    </tr>\n",
       "    <tr>\n",
       "      <th>2</th>\n",
       "      <td>311</td>\n",
       "      <td>4</td>\n",
       "      <td>2022-07-19 13:17:27</td>\n",
       "      <td>&lt;NA&gt;</td>\n",
       "    </tr>\n",
       "    <tr>\n",
       "      <th>3</th>\n",
       "      <td>323</td>\n",
       "      <td>4</td>\n",
       "      <td>2022-07-19 13:17:27</td>\n",
       "      <td>&lt;NA&gt;</td>\n",
       "    </tr>\n",
       "    <tr>\n",
       "      <th>4</th>\n",
       "      <td>261</td>\n",
       "      <td>4</td>\n",
       "      <td>2022-07-19 13:17:27</td>\n",
       "      <td>&lt;NA&gt;</td>\n",
       "    </tr>\n",
       "    <tr>\n",
       "      <th>...</th>\n",
       "      <td>...</td>\n",
       "      <td>...</td>\n",
       "      <td>...</td>\n",
       "      <td>...</td>\n",
       "    </tr>\n",
       "    <tr>\n",
       "      <th>102</th>\n",
       "      <td>3</td>\n",
       "      <td>3</td>\n",
       "      <td>2022-07-19 13:17:27</td>\n",
       "      <td>&lt;NA&gt;</td>\n",
       "    </tr>\n",
       "    <tr>\n",
       "      <th>103</th>\n",
       "      <td>@article{newkirk_daytime_1962,\\n author = {New...</td>\n",
       "      <td>0</td>\n",
       "      <td>2022-07-19 13:17:27</td>\n",
       "      <td>&lt;NA&gt;</td>\n",
       "    </tr>\n",
       "    <tr>\n",
       "      <th>104</th>\n",
       "      <td>Shorthand.parse_items</td>\n",
       "      <td>2</td>\n",
       "      <td>2022-07-19 13:17:27</td>\n",
       "      <td>&lt;NA&gt;</td>\n",
       "    </tr>\n",
       "    <tr>\n",
       "      <th>105</th>\n",
       "      <td>entry_node_type,item_label,item_node_type,item...</td>\n",
       "      <td>1</td>\n",
       "      <td>2022-07-19 13:17:27</td>\n",
       "      <td>&lt;NA&gt;</td>\n",
       "    </tr>\n",
       "    <tr>\n",
       "      <th>106</th>\n",
       "      <td>bibliograph/test_data/bibtex_test_data_short.bib</td>\n",
       "      <td>9</td>\n",
       "      <td>2022-07-19 13:17:27</td>\n",
       "      <td>&lt;NA&gt;</td>\n",
       "    </tr>\n",
       "  </tbody>\n",
       "</table>\n",
       "<p>107 rows × 4 columns</p>\n",
       "</div>"
      ],
      "text/plain": [
       "                                                string  node_type_id  \\\n",
       "0                                                  638             4   \n",
       "1                                                  641             4   \n",
       "2                                                  311             4   \n",
       "3                                                  323             4   \n",
       "4                                                  261             4   \n",
       "..                                                 ...           ...   \n",
       "102                                                  3             3   \n",
       "103  @article{newkirk_daytime_1962,\\n author = {New...             0   \n",
       "104                              Shorthand.parse_items             2   \n",
       "105  entry_node_type,item_label,item_node_type,item...             1   \n",
       "106   bibliograph/test_data/bibtex_test_data_short.bib             9   \n",
       "\n",
       "           date_inserted date_modified  \n",
       "0    2022-07-19 13:17:27          <NA>  \n",
       "1    2022-07-19 13:17:27          <NA>  \n",
       "2    2022-07-19 13:17:27          <NA>  \n",
       "3    2022-07-19 13:17:27          <NA>  \n",
       "4    2022-07-19 13:17:27          <NA>  \n",
       "..                   ...           ...  \n",
       "102  2022-07-19 13:17:27          <NA>  \n",
       "103  2022-07-19 13:17:27          <NA>  \n",
       "104  2022-07-19 13:17:27          <NA>  \n",
       "105  2022-07-19 13:17:27          <NA>  \n",
       "106  2022-07-19 13:17:27          <NA>  \n",
       "\n",
       "[107 rows x 4 columns]"
      ]
     },
     "execution_count": 1,
     "metadata": {},
     "output_type": "execute_result"
    }
   ],
   "source": [
    "import bibliograph as bg\n",
    "\n",
    "bibtex_fname = \"bibliograph/test_data/bibtex_test_data_short.bib\"\n",
    "entry_syntax_fname = \"bibliograph/resources/default_bibtex_syntax.csv\"\n",
    "\n",
    "tn = bg.slurp_bibtex(\n",
    "    bibtex_fname,\n",
    "    entry_syntax_fname,\n",
    "    syntax_case_sensitive=False,\n",
    "    space_char='|',\n",
    "    na_string_values='!',\n",
    "    na_node_type='missing'\n",
    ")\n",
    "\n",
    "tn.strings"
   ]
  },
  {
   "cell_type": "code",
   "execution_count": 3,
   "metadata": {},
   "outputs": [
    {
     "data": {
      "text/plain": [
       "{'shorthand_text':    node_id  node_type_id space_char na_string_values na_node_type  \\\n",
       " 0       60             0          |                !      missing   \n",
       " \n",
       "   item_separator  \n",
       " 0             __  ,\n",
       " 'shorthand_entry_syntax':    node_id  node_type_id  case_sensitive  allow_redundant_items\n",
       " 0       62             1           False                  False}"
      ]
     },
     "execution_count": 3,
     "metadata": {},
     "output_type": "execute_result"
    }
   ],
   "source": [
    "    import bibliograph as bg\n",
    "\n",
    "    tn = bg.slurp_shorthand(\n",
    "        'bibliograph/test_data/manual_annotation.shnd',\n",
    "        \"bibliograph/resources/default_entry_syntax.csv\",\n",
    "        link_syntax_fname=\"bibliograph/resources/default_link_syntax.csv\",\n",
    "        syntax_case_sensitive=False,\n",
    "        item_separator='__',\n",
    "        default_entry_prefix='wrk',\n",
    "        space_char='|',\n",
    "        na_string_values='!',\n",
    "        na_node_type='missing',\n",
    "        skiprows=2,\n",
    "        comment_char='#'\n",
    "    )\n",
    "\n",
    "    shorthand_text_string = tn.strings.query('node_type_id == 0')\n",
    "    assert (shorthand_text_string.string.squeeze().startswith(\n",
    "        'This is stuff shorthand ignores'\n",
    "    ))\n",
    "\n",
    "    tn.node_metadata_tables"
   ]
  },
  {
   "cell_type": "code",
   "execution_count": null,
   "metadata": {},
   "outputs": [],
   "source": [
    "!pytest bibliograph/tests.py"
   ]
  },
  {
   "cell_type": "code",
   "execution_count": null,
   "metadata": {},
   "outputs": [],
   "source": [
    "import pandas as pd\n",
    "a = 'a'\n",
    "pd._random_function(a)"
   ]
  },
  {
   "cell_type": "code",
   "execution_count": null,
   "metadata": {},
   "outputs": [],
   "source": [
    "import bibliograph\n",
    "tn = bibliograph.TextNet()\n",
    "\n",
    "tn._insert_metadata_table_test\n"
   ]
  },
  {
   "cell_type": "code",
   "execution_count": null,
   "metadata": {},
   "outputs": [],
   "source": [
    "import pandas as pd\n",
    "\n",
    "df = pd.DataFrame()\n",
    "\n",
    "df.wrong_name()"
   ]
  },
  {
   "cell_type": "code",
   "execution_count": null,
   "metadata": {},
   "outputs": [],
   "source": []
  }
 ],
 "metadata": {
  "kernelspec": {
   "display_name": "Python 3.9.13 64-bit (windows store)",
   "language": "python",
   "name": "python3"
  },
  "language_info": {
   "codemirror_mode": {
    "name": "ipython",
    "version": 3
   },
   "file_extension": ".py",
   "mimetype": "text/x-python",
   "name": "python",
   "nbconvert_exporter": "python",
   "pygments_lexer": "ipython3",
   "version": "3.9.13"
  },
  "orig_nbformat": 4,
  "vscode": {
   "interpreter": {
    "hash": "815b2be54127abaf32a64efea7cd3ff17cdf2bced9eda4b4c37568bb3e1c75a5"
   }
  }
 },
 "nbformat": 4,
 "nbformat_minor": 2
}
