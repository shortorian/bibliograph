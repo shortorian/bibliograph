{
 "cells": [
  {
   "cell_type": "code",
   "execution_count": null,
   "metadata": {},
   "outputs": [],
   "source": [
    "!pytest bibliograph/tests.py"
   ]
  },
  {
   "cell_type": "code",
   "execution_count": null,
   "metadata": {},
   "outputs": [],
   "source": [
    "from crossref.restful import Works, Etiquette\n",
    "my_etiquette = Etiquette(\n",
    "    'bibliograph',\n",
    "    '0.0.1',\n",
    "    'https://github.com/shortorian/bibliograph',\n",
    "    'short.devin@gmail.com'\n",
    ")\n",
    "\n",
    "works = Works(etiquette=my_etiquette)\n",
    "result = works.sample(5).select('DOI')\n",
    "result.do_http_request('get', result.url, only_headers=True, custom_header=result.custom_header)"
   ]
  },
  {
   "cell_type": "code",
   "execution_count": null,
   "metadata": {},
   "outputs": [],
   "source": [
    "import bibliograph as bg\n",
    "\n",
    "tn = bg.slurp_bibtex(\n",
    "    'bibliograph/test_data/NCAR_papers.bib',\n",
    "    entry_syntax_fname=\"bibliograph/resources/default_bibtex_syntax.csv\",\n",
    "    syntax_case_sensitive=False,\n",
    "    allow_redundant_items=True,\n",
    "    automatic_aliasing=True,\n",
    "    link_constraints_fname='bibliograph/resources/default_link_constraints.csv',\n",
    "    space_char='|',\n",
    "    na_string_values='!',\n",
    "    na_node_type='missing',\n",
    ")\n",
    "\n",
    "tn.strings"
   ]
  },
  {
   "cell_type": "code",
   "execution_count": 3,
   "metadata": {},
   "outputs": [
    {
     "data": {
      "text/plain": [
       "0        thompsonpd\n",
       "1       schneidersh\n",
       "2       dickinsonre\n",
       "3            firorj\n",
       "4         kasaharaa\n",
       "           ...     \n",
       "4595         stowgd\n",
       "4596          oyera\n",
       "4597      friedmani\n",
       "4598         tylers\n",
       "4599      robbinsde\n",
       "Length: 4600, dtype: object"
      ]
     },
     "execution_count": 3,
     "metadata": {},
     "output_type": "execute_result"
    }
   ],
   "source": [
    "import pandas as pd\n",
    "from bibliograph.alias_generators import western_surname_alias_generator_serial\n",
    "from bibliograph.alias_generators import western_surname_alias_generator_vector\n",
    "from bibtexparser import dumps as _dump_bibtex_string\n",
    "from bibtexparser.bibdatabase import BibDatabase as _bibtex_db\n",
    "from bibtexparser.bparser import BibTexParser as _bibtexparser\n",
    "\n",
    "bibtex_parser = _bibtexparser(common_strings=True)\n",
    "\n",
    "bibtex_fname = 'bibliograph/test_data/NCAR_papers.bib'\n",
    "\n",
    "with open(bibtex_fname, encoding='utf8') as f:\n",
    "    data = pd.DataFrame(bibtex_parser.parse_file(f).entries)\n",
    "\n",
    "names = data.author.str.split(' and ').explode()\n",
    "names = names.str.casefold().drop_duplicates().reset_index(drop=True)\n",
    "western_surname_alias_generator_vector(names)"
   ]
  },
  {
   "cell_type": "code",
   "execution_count": null,
   "metadata": {},
   "outputs": [],
   "source": [
    "has_sheeley = names.str.contains('sheeley')\n",
    "has_newkirk = names.str.contains('newkirk')\n",
    "has_bruner = names.str.contains('bruner')\n",
    "names.loc[has_sheeley|has_newkirk|has_bruner].array"
   ]
  },
  {
   "cell_type": "code",
   "execution_count": null,
   "metadata": {},
   "outputs": [],
   "source": [
    "import pandas as pd\n",
    "from bibliograph.alias_generators import western_surname_alias_generator_serial\n",
    "from bibliograph.alias_generators import western_surname_alias_generator_vector\n",
    "\n",
    "\n",
    "names = pd.Series([\n",
    "    'Loon, H. van',\n",
    "    'van Loon, h.',\n",
    "    'van Loon, Harry',\n",
    "    'VAN LOON, H',\n",
    "    'Van loon, ',\n",
    "    'some other person',\n",
    "    'Rodríguez-Silva, Ileana',\n",
    "    'nasa',\n",
    "    'Martin Luther King, jr.',\n",
    "    'King, Martin Luther jr.',\n",
    "    'King, Jr., Martin Luther',\n",
    "    'Mr. Martin Luther King, jr.',\n",
    "    'St. Whatever, Given Name',\n",
    "    'Whatever, Given Name St.',\n",
    "    'University of Washington, Seattle',\n",
    "    'University of Chicago',\n",
    "    'Ms. Gerould, Joanne',\n",
    "    'Gerould, Ms. Joanne',\n",
    "    'Gerould, Joanne, Ms.',\n",
    "    'Joanne Gerould, Ms.',\n",
    "    'Surname, Compound Given-Name',\n",
    "    'Monde, Alice le',\n",
    "    'le Monde, Alice',\n",
    "    'Sheeley, Jr., N. R.',\n",
    "    'Newkirk, Jr., G.',\n",
    "    'Newkirk, Jr., Gordon',\n",
    "    'Bruner, Jr., E. C.'\n",
    "])\n",
    "\n",
    "serial = names.map(western_surname_alias_generator_serial)\n",
    "vector = western_surname_alias_generator_vector(names)\n",
    "((serial == vector) | (serial.isna() & vector.isna())).all()\n",
    "pd.DataFrame({'in':names, 'out':vector})"
   ]
  },
  {
   "cell_type": "code",
   "execution_count": 2,
   "metadata": {},
   "outputs": [
    {
     "data": {
      "text/plain": [
       "2        brunerec\n",
       "10     brunerjrec\n",
       "1        newkirkg\n",
       "7        newkirkg\n",
       "0       newkirkga\n",
       "3       newkirkga\n",
       "5      newkirkjrg\n",
       "8      newkirkjrg\n",
       "9     newkirkjrga\n",
       "4     sheeleyjrnr\n",
       "6       sheeleynr\n",
       "dtype: object"
      ]
     },
     "execution_count": 2,
     "metadata": {},
     "output_type": "execute_result"
    }
   ],
   "source": [
    "import pandas as pd\n",
    "from bibliograph.alias_generators import western_surname_alias_generator_serial\n",
    "from bibliograph.alias_generators import western_surname_alias_generator_vector\n",
    "\n",
    "names = pd.Series([\n",
    "    'newkirk, gordon a.',\n",
    "    'newkirk, gordon',\n",
    "    'bruner, e. c.',\n",
    "    'newkirk, g. a.',\n",
    "    'sheeley, jr., n. r.',\n",
    "    'newkirk, jr., g.',\n",
    "    'sheeley, n. r.',\n",
    "    'newkirk, g.',\n",
    "    'newkirk, jr., gordon',\n",
    "    'newkirk, jr., g. a.',\n",
    "    'bruner, jr., e. c.'\n",
    "])\n",
    "\n",
    "serial = names.map(western_surname_alias_generator_serial)\n",
    "vector = western_surname_alias_generator_vector(names)\n",
    "((serial == vector) | (serial.isna() & vector.isna())).all()\n",
    "vector.sort_values()"
   ]
  },
  {
   "cell_type": "code",
   "execution_count": null,
   "metadata": {},
   "outputs": [],
   "source": []
  }
 ],
 "metadata": {
  "kernelspec": {
   "display_name": "Python 3.9.13 64-bit (windows store)",
   "language": "python",
   "name": "python3"
  },
  "language_info": {
   "codemirror_mode": {
    "name": "ipython",
    "version": 3
   },
   "file_extension": ".py",
   "mimetype": "text/x-python",
   "name": "python",
   "nbconvert_exporter": "python",
   "pygments_lexer": "ipython3",
   "version": "3.9.13"
  },
  "orig_nbformat": 4,
  "vscode": {
   "interpreter": {
    "hash": "815b2be54127abaf32a64efea7cd3ff17cdf2bced9eda4b4c37568bb3e1c75a5"
   }
  }
 },
 "nbformat": 4,
 "nbformat_minor": 2
}
