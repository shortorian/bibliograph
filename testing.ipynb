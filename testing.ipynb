{
 "cells": [
  {
   "cell_type": "code",
   "execution_count": null,
   "metadata": {},
   "outputs": [],
   "source": [
    "import bibliograph as bg\n",
    "\n",
    "bibtex_fname = \"bibliograph/test_data/bibtex_test_data_short.bib\"\n",
    "entry_syntax_fname = \"bibliograph/resources/default_bibtex_syntax.csv\"\n",
    "\n",
    "tn = bg.slurp_bibtex(\n",
    "    bibtex_fname,\n",
    "    entry_syntax_fname,\n",
    "    syntax_case_sensitive=False,\n",
    "    space_char='|',\n",
    "    na_string_values='!',\n",
    "    na_node_type='missing'\n",
    ")\n",
    "\n",
    "tn.strings"
   ]
  },
  {
   "cell_type": "code",
   "execution_count": 2,
   "metadata": {},
   "outputs": [],
   "source": [
    "import bibliograph as bg\n",
    "\n",
    "shorthand_fname='bibliograph/test_data/manual_annotation.shnd'\n",
    "entry_syntax_fname = \"bibliograph/resources/default_entry_syntax.csv\"\n",
    "link_syntax_fname=\"bibliograph/resources/default_link_syntax.csv\"\n",
    "\n",
    "tn = bg.slurp_shorthand(\n",
    "    shorthand_fname,\n",
    "    entry_syntax_fname,\n",
    "    link_syntax_fname,\n",
    "    syntax_case_sensitive=False,\n",
    "    item_separator='__',\n",
    "    space_char='|',\n",
    "    na_string_values='!',\n",
    "    na_node_type='missing',\n",
    "    default_entry_prefix='wrk',\n",
    "    skiprows=2,\n",
    "    comment_char='#'\n",
    ")"
   ]
  },
  {
   "cell_type": "code",
   "execution_count": 1,
   "metadata": {},
   "outputs": [],
   "source": [
    "import bibliograph as bg\n",
    "import shorthand as shnd\n",
    "\n",
    "def test():\n",
    "    shorthand_fname = 'bibliograph/test_data/manual_annotation.shnd'\n",
    "    entry_syntax_fname = \"bibliograph/resources/default_entry_syntax.csv\"\n",
    "    link_syntax_fname = \"bibliograph/resources/default_link_syntax.csv\"\n",
    "    syntax_case_sensitive = True\n",
    "    allow_redundant_items = False\n",
    "    item_separator = '__'\n",
    "    space_char = '|'\n",
    "    na_string_values = '!'\n",
    "    na_node_type = 'missing'\n",
    "    default_entry_prefix = 'wrk'\n",
    "    skiprows = 2\n",
    "    comment_char = '#'\n",
    "\n",
    "    s = shnd.Shorthand(\n",
    "        entry_syntax=entry_syntax_fname,\n",
    "        link_syntax=link_syntax_fname,\n",
    "        syntax_case_sensitive=syntax_case_sensitive,\n",
    "        allow_redundant_items=allow_redundant_items\n",
    "    )\n",
    "\n",
    "    parsed = s.parse_text(\n",
    "        shorthand_fname,\n",
    "        item_separator='__',\n",
    "        space_char='|',\n",
    "        na_string_values='!',\n",
    "        na_node_type='missing',\n",
    "        default_entry_prefix='wrk',\n",
    "        skiprows=2,\n",
    "        comment_char='#'\n",
    "    )\n",
    "\n",
    "    input_source_string = shorthand_fname\n",
    "    input_source_node_type = 'file_name'\n",
    "\n",
    "    aliases_dict = {\n",
    "        'actor': 'bibliograph/test_data/aliases_manual_annotation_actor.csv',\n",
    "        'work': 'bibliograph/test_data/aliases_manual_annotation_work.csv'\n",
    "    }\n",
    "\n",
    "    aliases_case_sensitive = True\n",
    "\n",
    "    tn = bg.core._assertions_from_parsed_shorthand(\n",
    "        parsed,\n",
    "        input_source_string,\n",
    "        input_source_node_type\n",
    "    )\n",
    "\n",
    "    if aliases_dict is not None:\n",
    "        bg.core._insert_alias_assertions(\n",
    "            tn,\n",
    "            parsed,\n",
    "            aliases_dict,\n",
    "            aliases_case_sensitive,\n",
    "        )\n",
    "\n",
    "    tn = bg.core._complete_textnet_from_assertions(tn, parsed)\n",
    "\n",
    "    tn.strings\n",
    "\n",
    "tn = test()\n",
    "tn.assertions"
   ]
  },
  {
   "cell_type": "markdown",
   "metadata": {},
   "source": [
    "# TODO: alias insertion executes without error, now write test cases"
   ]
  },
  {
   "cell_type": "code",
   "execution_count": null,
   "metadata": {},
   "outputs": [],
   "source": [
    "!pytest bibliograph/tests.py"
   ]
  }
 ],
 "metadata": {
  "kernelspec": {
   "display_name": "Python 3.9.13 64-bit (windows store)",
   "language": "python",
   "name": "python3"
  },
  "language_info": {
   "codemirror_mode": {
    "name": "ipython",
    "version": 3
   },
   "file_extension": ".py",
   "mimetype": "text/x-python",
   "name": "python",
   "nbconvert_exporter": "python",
   "pygments_lexer": "ipython3",
   "version": "3.9.13"
  },
  "orig_nbformat": 4,
  "vscode": {
   "interpreter": {
    "hash": "815b2be54127abaf32a64efea7cd3ff17cdf2bced9eda4b4c37568bb3e1c75a5"
   }
  }
 },
 "nbformat": 4,
 "nbformat_minor": 2
}
