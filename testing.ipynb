{
 "cells": [
  {
   "cell_type": "code",
   "execution_count": 1,
   "metadata": {},
   "outputs": [
    {
     "name": "stdout",
     "output_type": "stream",
     "text": [
      "============================= test session starts =============================\n",
      "platform win32 -- Python 3.9.13, pytest-7.1.2, pluggy-1.0.0\n",
      "rootdir: c:\\Users\\short\\Dropbox\\jd\\60-69 projects\\61 public\\61.02 bibliograph\n",
      "plugins: anyio-3.4.0\n",
      "collected 42 items\n",
      "\n",
      "bibliograph\\tests.py ..........................................          [100%]\n",
      "\n",
      "============================= 42 passed in 21.76s =============================\n"
     ]
    }
   ],
   "source": [
    "!pytest bibliograph/tests.py"
   ]
  },
  {
   "cell_type": "code",
   "execution_count": null,
   "metadata": {},
   "outputs": [],
   "source": [
    "from crossref.restful import Works, Etiquette\n",
    "my_etiquette = Etiquette(\n",
    "    'bibliograph',\n",
    "    '0.0.1',\n",
    "    'https://github.com/shortorian/bibliograph',\n",
    "    'short.devin@gmail.com'\n",
    ")\n",
    "\n",
    "works = Works(etiquette=my_etiquette)\n",
    "result = works.sample(5).select('DOI')\n",
    "result.do_http_request('get', result.url, only_headers=True, custom_header=result.custom_header)"
   ]
  }
 ],
 "metadata": {
  "kernelspec": {
   "display_name": "Python 3.9.13 64-bit (windows store)",
   "language": "python",
   "name": "python3"
  },
  "language_info": {
   "codemirror_mode": {
    "name": "ipython",
    "version": 3
   },
   "file_extension": ".py",
   "mimetype": "text/x-python",
   "name": "python",
   "nbconvert_exporter": "python",
   "pygments_lexer": "ipython3",
   "version": "3.9.13"
  },
  "orig_nbformat": 4,
  "vscode": {
   "interpreter": {
    "hash": "815b2be54127abaf32a64efea7cd3ff17cdf2bced9eda4b4c37568bb3e1c75a5"
   }
  }
 },
 "nbformat": 4,
 "nbformat_minor": 2
}
