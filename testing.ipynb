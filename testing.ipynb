{
 "cells": [
  {
   "cell_type": "code",
   "execution_count": null,
   "metadata": {},
   "outputs": [],
   "source": [
    "import bibliograph as bg\n",
    "\n",
    "bibtex_fname = \"bibliograph/test_data/bibtex_test_data_short.bib\"\n",
    "entry_syntax_fname = \"bibliograph/resources/default_bibtex_syntax.csv\"\n",
    "\n",
    "tn = bg.slurp_bibtex(\n",
    "    bibtex_fname,\n",
    "    entry_syntax_fname,\n",
    "    syntax_case_sensitive=False,\n",
    "    space_char='|',\n",
    "    na_string_values='!',\n",
    "    na_node_type='missing'\n",
    ")\n",
    "\n",
    "tn.strings"
   ]
  },
  {
   "cell_type": "code",
   "execution_count": null,
   "metadata": {},
   "outputs": [],
   "source": [
    "import bibliograph as bg\n",
    "\n",
    "shorthand_fname='bibliograph/test_data/manual_annotation.shnd'\n",
    "entry_syntax_fname = \"bibliograph/resources/default_entry_syntax.csv\"\n",
    "link_syntax_fname=\"bibliograph/resources/default_link_syntax.csv\"\n",
    "\n",
    "tn = bg.slurp_shorthand(\n",
    "    shorthand_fname,\n",
    "    entry_syntax_fname,\n",
    "    link_syntax_fname,\n",
    "    syntax_case_sensitive=False,\n",
    "    item_separator='__',\n",
    "    space_char='|',\n",
    "    na_string_values='!',\n",
    "    na_node_type='missing',\n",
    "    default_entry_prefix='wrk',\n",
    "    skiprows=2,\n",
    "    comment_char='#'\n",
    ")"
   ]
  },
  {
   "cell_type": "code",
   "execution_count": 6,
   "metadata": {},
   "outputs": [
    {
     "data": {
      "text/html": [
       "<div>\n",
       "<style scoped>\n",
       "    .dataframe tbody tr th:only-of-type {\n",
       "        vertical-align: middle;\n",
       "    }\n",
       "\n",
       "    .dataframe tbody tr th {\n",
       "        vertical-align: top;\n",
       "    }\n",
       "\n",
       "    .dataframe thead th {\n",
       "        text-align: right;\n",
       "    }\n",
       "</style>\n",
       "<table border=\"1\" class=\"dataframe\">\n",
       "  <thead>\n",
       "    <tr style=\"text-align: right;\">\n",
       "      <th></th>\n",
       "      <th>node_type</th>\n",
       "      <th>name_string</th>\n",
       "      <th>abbr_string</th>\n",
       "      <th>date_inserted</th>\n",
       "      <th>date_modified</th>\n",
       "    </tr>\n",
       "  </thead>\n",
       "  <tbody>\n",
       "    <tr>\n",
       "      <th>0</th>\n",
       "      <td>actor</td>\n",
       "      <td>alice smith</td>\n",
       "      <td>asmith</td>\n",
       "      <td>2022-07-22 15:22:44</td>\n",
       "      <td>&lt;NA&gt;</td>\n",
       "    </tr>\n",
       "    <tr>\n",
       "      <th>1</th>\n",
       "      <td>actor</td>\n",
       "      <td>elizabeth wu</td>\n",
       "      <td>bwu</td>\n",
       "      <td>2022-07-22 15:22:44</td>\n",
       "      <td>&lt;NA&gt;</td>\n",
       "    </tr>\n",
       "    <tr>\n",
       "      <th>2</th>\n",
       "      <td>actor</td>\n",
       "      <td>national aeronautics and space administration</td>\n",
       "      <td>nasa</td>\n",
       "      <td>2022-07-22 15:22:44</td>\n",
       "      <td>&lt;NA&gt;</td>\n",
       "    </tr>\n",
       "    <tr>\n",
       "      <th>19</th>\n",
       "      <td>actor</td>\n",
       "      <td>University of Chicago</td>\n",
       "      <td>University of Chicago</td>\n",
       "      <td>2022-07-22 15:22:44</td>\n",
       "      <td>&lt;NA&gt;</td>\n",
       "    </tr>\n",
       "  </tbody>\n",
       "</table>\n",
       "</div>"
      ],
      "text/plain": [
       "   node_type                                    name_string  \\\n",
       "0      actor                                    alice smith   \n",
       "1      actor                                   elizabeth wu   \n",
       "2      actor  national aeronautics and space administration   \n",
       "19     actor                          University of Chicago   \n",
       "\n",
       "              abbr_string        date_inserted date_modified  \n",
       "0                  asmith  2022-07-22 15:22:44          <NA>  \n",
       "1                     bwu  2022-07-22 15:22:44          <NA>  \n",
       "2                    nasa  2022-07-22 15:22:44          <NA>  \n",
       "19  University of Chicago  2022-07-22 15:22:44          <NA>  "
      ]
     },
     "execution_count": 6,
     "metadata": {},
     "output_type": "execute_result"
    }
   ],
   "source": [
    "import bibliograph as bg\n",
    "\n",
    "shorthand_fname='bibliograph/test_data/shorthand_with_aliases.shnd'\n",
    "entry_syntax_fname = \"bibliograph/resources/default_entry_syntax.csv\"\n",
    "link_syntax_fname=\"bibliograph/resources/default_link_syntax.csv\"\n",
    "\n",
    "aliases_dict = {\n",
    "    'actor': 'bibliograph/test_data/aliases_actor.csv',\n",
    "    'work': 'bibliograph/test_data/aliases_work.csv'\n",
    "}\n",
    "\n",
    "tn = bg.slurp_shorthand(\n",
    "    shorthand_fname,\n",
    "    entry_syntax_fname,\n",
    "    link_syntax_fname,\n",
    "    syntax_case_sensitive=False,\n",
    "    aliases_dict=aliases_dict,\n",
    "    aliases_case_sensitive=False,\n",
    "    item_separator='__',\n",
    "    space_char='|',\n",
    "    na_string_values='!',\n",
    "    na_node_type='missing',\n",
    "    default_entry_prefix='wrk',\n",
    "    skiprows=2,\n",
    "    comment_char='#',\n",
    ")\n",
    "\n",
    "tn.resolve_nodes().query('node_type == \"actor\"')"
   ]
  },
  {
   "cell_type": "markdown",
   "metadata": {},
   "source": [
    "# TODO: alias insertion executes without error, now write test cases"
   ]
  },
  {
   "cell_type": "code",
   "execution_count": 5,
   "metadata": {},
   "outputs": [],
   "source": [
    "!pytest bibliograph/tests.py"
   ]
  },
  {
   "cell_type": "code",
   "execution_count": null,
   "metadata": {},
   "outputs": [],
   "source": [
    "import pandas as pd\n",
    "strings = pd.DataFrame({'string':['a','A','b','c','d','C','z']})\n",
    "data = pd.Series([1,1,2,4,5,6,3,3,2])\n",
    "\n",
    "data = pd.concat([data, data.map(strings.string)], axis='columns')\n",
    "data[2] = data[1].str.casefold()\n",
    "folded_uid = data[2].unique()\n",
    "folded_uid = pd.Series(range(len(folded_uid)), index=folded_uid)\n",
    "data[3] = data[2].map(folded_uid)\n",
    "data"
   ]
  },
  {
   "cell_type": "code",
   "execution_count": null,
   "metadata": {},
   "outputs": [],
   "source": [
    "pd."
   ]
  }
 ],
 "metadata": {
  "kernelspec": {
   "display_name": "Python 3.9.13 64-bit (windows store)",
   "language": "python",
   "name": "python3"
  },
  "language_info": {
   "codemirror_mode": {
    "name": "ipython",
    "version": 3
   },
   "file_extension": ".py",
   "mimetype": "text/x-python",
   "name": "python",
   "nbconvert_exporter": "python",
   "pygments_lexer": "ipython3",
   "version": "3.9.13"
  },
  "orig_nbformat": 4,
  "vscode": {
   "interpreter": {
    "hash": "815b2be54127abaf32a64efea7cd3ff17cdf2bced9eda4b4c37568bb3e1c75a5"
   }
  }
 },
 "nbformat": 4,
 "nbformat_minor": 2
}
