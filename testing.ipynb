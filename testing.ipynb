{
 "cells": [
  {
   "cell_type": "code",
   "execution_count": null,
   "metadata": {},
   "outputs": [],
   "source": [
    "import bibliograph as bg\n",
    "\n",
    "bibtex_fname = \"bibliograph/test_data/bibtex_test_data_short.bib\"\n",
    "entry_syntax_fname = \"bibliograph/resources/default_bibtex_syntax.csv\"\n",
    "\n",
    "tn = bg.slurp_bibtex(\n",
    "    bibtex_fname,\n",
    "    entry_syntax_fname,\n",
    "    syntax_case_sensitive=False,\n",
    "    space_char='|',\n",
    "    na_string_values='!',\n",
    "    na_node_type='missing'\n",
    ")\n",
    "\n",
    "tn.strings"
   ]
  },
  {
   "cell_type": "code",
   "execution_count": null,
   "metadata": {},
   "outputs": [],
   "source": [
    "import bibliograph as bg\n",
    "\n",
    "shorthand_fname='bibliograph/test_data/manual_annotation.shnd'\n",
    "entry_syntax_fname = \"bibliograph/resources/default_entry_syntax.csv\"\n",
    "link_syntax_fname=\"bibliograph/resources/default_link_syntax.csv\"\n",
    "\n",
    "tn = bg.slurp_shorthand(\n",
    "    shorthand_fname,\n",
    "    entry_syntax_fname,\n",
    "    link_syntax_fname,\n",
    "    syntax_case_sensitive=False,\n",
    "    item_separator='__',\n",
    "    space_char='|',\n",
    "    na_string_values='!',\n",
    "    na_node_type='missing',\n",
    "    default_entry_prefix='wrk',\n",
    "    skiprows=2,\n",
    "    comment_char='#'\n",
    ")"
   ]
  },
  {
   "cell_type": "code",
   "execution_count": 8,
   "metadata": {},
   "outputs": [
    {
     "data": {
      "text/html": [
       "<div>\n",
       "<style scoped>\n",
       "    .dataframe tbody tr th:only-of-type {\n",
       "        vertical-align: middle;\n",
       "    }\n",
       "\n",
       "    .dataframe tbody tr th {\n",
       "        vertical-align: top;\n",
       "    }\n",
       "\n",
       "    .dataframe thead th {\n",
       "        text-align: right;\n",
       "    }\n",
       "</style>\n",
       "<table border=\"1\" class=\"dataframe\">\n",
       "  <thead>\n",
       "    <tr style=\"text-align: right;\">\n",
       "      <th></th>\n",
       "      <th>node_type</th>\n",
       "      <th>name_string</th>\n",
       "      <th>abbr_string</th>\n",
       "      <th>date_inserted</th>\n",
       "      <th>date_modified</th>\n",
       "    </tr>\n",
       "  </thead>\n",
       "  <tbody>\n",
       "    <tr>\n",
       "      <th>0</th>\n",
       "      <td>actor</td>\n",
       "      <td>Alice Smith</td>\n",
       "      <td>asmith</td>\n",
       "      <td>2022-07-22 10:22:56</td>\n",
       "      <td>&lt;NA&gt;</td>\n",
       "    </tr>\n",
       "    <tr>\n",
       "      <th>1</th>\n",
       "      <td>actor</td>\n",
       "      <td>Elizabeth Wu</td>\n",
       "      <td>bwu</td>\n",
       "      <td>2022-07-22 10:22:56</td>\n",
       "      <td>&lt;NA&gt;</td>\n",
       "    </tr>\n",
       "    <tr>\n",
       "      <th>2</th>\n",
       "      <td>actor</td>\n",
       "      <td>National Aeronautics and Space Administration</td>\n",
       "      <td>nasa</td>\n",
       "      <td>2022-07-22 10:22:56</td>\n",
       "      <td>&lt;NA&gt;</td>\n",
       "    </tr>\n",
       "    <tr>\n",
       "      <th>3</th>\n",
       "      <td>actor</td>\n",
       "      <td>some other person</td>\n",
       "      <td>soperson</td>\n",
       "      <td>2022-07-22 10:22:56</td>\n",
       "      <td>&lt;NA&gt;</td>\n",
       "    </tr>\n",
       "    <tr>\n",
       "      <th>4</th>\n",
       "      <td>work</td>\n",
       "      <td>j. atmos. sci.</td>\n",
       "      <td>jats</td>\n",
       "      <td>2022-07-22 10:22:56</td>\n",
       "      <td>&lt;NA&gt;</td>\n",
       "    </tr>\n",
       "  </tbody>\n",
       "</table>\n",
       "</div>"
      ],
      "text/plain": [
       "  node_type                                    name_string abbr_string  \\\n",
       "0     actor                                    Alice Smith      asmith   \n",
       "1     actor                                   Elizabeth Wu         bwu   \n",
       "2     actor  National Aeronautics and Space Administration        nasa   \n",
       "3     actor                              some other person    soperson   \n",
       "4      work                                 j. atmos. sci.        jats   \n",
       "\n",
       "         date_inserted date_modified  \n",
       "0  2022-07-22 10:22:56          <NA>  \n",
       "1  2022-07-22 10:22:56          <NA>  \n",
       "2  2022-07-22 10:22:56          <NA>  \n",
       "3  2022-07-22 10:22:56          <NA>  \n",
       "4  2022-07-22 10:22:56          <NA>  "
      ]
     },
     "execution_count": 8,
     "metadata": {},
     "output_type": "execute_result"
    }
   ],
   "source": [
    "import bibliograph as bg\n",
    "\n",
    "shorthand_fname='bibliograph/test_data/shorthand_with_aliases.shnd'\n",
    "entry_syntax_fname = \"bibliograph/resources/default_entry_syntax.csv\"\n",
    "link_syntax_fname=\"bibliograph/resources/default_link_syntax.csv\"\n",
    "\n",
    "aliases_dict = {\n",
    "    'actor': 'bibliograph/test_data/aliases_actor.csv',\n",
    "    'work': 'bibliograph/test_data/aliases_work.csv'\n",
    "}\n",
    "\n",
    "tn = bg.slurp_shorthand(\n",
    "    shorthand_fname,\n",
    "    entry_syntax_fname,\n",
    "    link_syntax_fname,\n",
    "    syntax_case_sensitive=False,\n",
    "    aliases_dict=aliases_dict,\n",
    "    item_separator='__',\n",
    "    space_char='|',\n",
    "    na_string_values='!',\n",
    "    na_node_type='missing',\n",
    "    default_entry_prefix='wrk',\n",
    "    skiprows=2,\n",
    "    comment_char='#',\n",
    ")\n",
    "\n",
    "tn.resolve_nodes().query('name_string != abbr_string')"
   ]
  },
  {
   "cell_type": "markdown",
   "metadata": {},
   "source": [
    "# TODO: alias insertion executes without error, now write test cases"
   ]
  },
  {
   "cell_type": "code",
   "execution_count": null,
   "metadata": {},
   "outputs": [],
   "source": [
    "!pytest bibliograph/tests.py"
   ]
  },
  {
   "cell_type": "code",
   "execution_count": null,
   "metadata": {},
   "outputs": [],
   "source": []
  }
 ],
 "metadata": {
  "kernelspec": {
   "display_name": "Python 3.9.13 64-bit (windows store)",
   "language": "python",
   "name": "python3"
  },
  "language_info": {
   "codemirror_mode": {
    "name": "ipython",
    "version": 3
   },
   "file_extension": ".py",
   "mimetype": "text/x-python",
   "name": "python",
   "nbconvert_exporter": "python",
   "pygments_lexer": "ipython3",
   "version": "3.9.13"
  },
  "orig_nbformat": 4,
  "vscode": {
   "interpreter": {
    "hash": "815b2be54127abaf32a64efea7cd3ff17cdf2bced9eda4b4c37568bb3e1c75a5"
   }
  }
 },
 "nbformat": 4,
 "nbformat_minor": 2
}
