{
 "cells": [
  {
   "cell_type": "code",
   "execution_count": null,
   "metadata": {},
   "outputs": [],
   "source": [
    "!pytest bibliograph/tests.py"
   ]
  },
  {
   "cell_type": "code",
   "execution_count": null,
   "metadata": {},
   "outputs": [],
   "source": [
    "from crossref.restful import Works, Etiquette\n",
    "my_etiquette = Etiquette(\n",
    "    'bibliograph',\n",
    "    '0.0.1',\n",
    "    'https://github.com/shortorian/bibliograph',\n",
    "    'short.devin@gmail.com'\n",
    ")\n",
    "\n",
    "works = Works(etiquette=my_etiquette)\n",
    "result = works.sample(5).select('DOI')\n",
    "result.do_http_request('get', result.url, only_headers=True, custom_header=result.custom_header)"
   ]
  },
  {
   "cell_type": "code",
   "execution_count": 4,
   "metadata": {},
   "outputs": [
    {
     "name": "stderr",
     "output_type": "stream",
     "text": [
      "c:\\Users\\short\\Dropbox\\jd\\60-69 projects\\61 public\\61.02 bibliograph\\bibliograph\\entry_parsing.py:554: FutureWarning: In a future version, `df.iloc[:, i] = newvals` will attempt to set the values inplace instead of always setting a new array. To retain the old behavior, use either `df[df.columns[i]] = newvals` or, if columns are non-unique, `df.isetitem(i, newvals)`\n",
      "  group.loc[:, 'string'] = group['string'].str.split(delimiter)\n"
     ]
    },
    {
     "name": "stdout",
     "output_type": "stream",
     "text": [
      "               0                   1\n",
      "3477    thompson       philip duncan\n",
      "3478   schneider          stephen h.\n",
      "3479   dickinson           robert e.\n",
      "3480       firor                john\n",
      "3481   schneider          stephen h.\n",
      "...          ...                 ...\n",
      "18859      begon                  m.\n",
      "18860     fitter               a. h.\n",
      "18861  macfadyen                  a.\n",
      "18862     wegman  e. j. and depriest\n",
      "18863    rigutti  mario and giacconi\n",
      "\n",
      "[4654 rows x 2 columns]\n",
      "            0    1\n",
      "5026  sheeley  jr.\n",
      "5054  newkirk  jr.\n",
      "7029  newkirk  jr.\n",
      "7195  newkirk  jr.\n",
      "8051   bruner  jr.\n",
      "                 0              1\n",
      "3477      thompson  philip duncan\n",
      "3478     schneider     stephen h.\n",
      "3479     dickinson      robert e.\n",
      "3480         firor           john\n",
      "3481     schneider     stephen h.\n",
      "...            ...            ...\n",
      "18857  schidlowski             m.\n",
      "18858     saltzman          barry\n",
      "18859        begon             m.\n",
      "18860       fitter          a. h.\n",
      "18861    macfadyen             a.\n",
      "\n",
      "[4646 rows x 2 columns]\n",
      "Index([], dtype='Int32')\n",
      "Empty DataFrame\n",
      "Columns: []\n",
      "Index: []\n"
     ]
    },
    {
     "ename": "KeyError",
     "evalue": "1",
     "output_type": "error",
     "traceback": [
      "\u001b[1;31m---------------------------------------------------------------------------\u001b[0m",
      "\u001b[1;31mKeyError\u001b[0m                                  Traceback (most recent call last)",
      "\u001b[1;32m~\\AppData\\Local\\Packages\\PythonSoftwareFoundation.Python.3.9_qbz5n2kfra8p0\\LocalCache\\local-packages\\Python39\\site-packages\\pandas\\core\\indexes\\base.py\u001b[0m in \u001b[0;36mget_loc\u001b[1;34m(self, key, method, tolerance)\u001b[0m\n\u001b[0;32m   3802\u001b[0m             \u001b[1;32mtry\u001b[0m\u001b[1;33m:\u001b[0m\u001b[1;33m\u001b[0m\u001b[1;33m\u001b[0m\u001b[0m\n\u001b[1;32m-> 3803\u001b[1;33m                 \u001b[1;32mreturn\u001b[0m \u001b[0mself\u001b[0m\u001b[1;33m.\u001b[0m\u001b[0m_engine\u001b[0m\u001b[1;33m.\u001b[0m\u001b[0mget_loc\u001b[0m\u001b[1;33m(\u001b[0m\u001b[0mcasted_key\u001b[0m\u001b[1;33m)\u001b[0m\u001b[1;33m\u001b[0m\u001b[1;33m\u001b[0m\u001b[0m\n\u001b[0m\u001b[0;32m   3804\u001b[0m             \u001b[1;32mexcept\u001b[0m \u001b[0mKeyError\u001b[0m \u001b[1;32mas\u001b[0m \u001b[0merr\u001b[0m\u001b[1;33m:\u001b[0m\u001b[1;33m\u001b[0m\u001b[1;33m\u001b[0m\u001b[0m\n",
      "\u001b[1;32m~\\AppData\\Local\\Packages\\PythonSoftwareFoundation.Python.3.9_qbz5n2kfra8p0\\LocalCache\\local-packages\\Python39\\site-packages\\pandas\\_libs\\index.pyx\u001b[0m in \u001b[0;36mpandas._libs.index.IndexEngine.get_loc\u001b[1;34m()\u001b[0m\n",
      "\u001b[1;32m~\\AppData\\Local\\Packages\\PythonSoftwareFoundation.Python.3.9_qbz5n2kfra8p0\\LocalCache\\local-packages\\Python39\\site-packages\\pandas\\_libs\\index.pyx\u001b[0m in \u001b[0;36mpandas._libs.index.IndexEngine.get_loc\u001b[1;34m()\u001b[0m\n",
      "\u001b[1;32mpandas\\_libs\\hashtable_class_helper.pxi\u001b[0m in \u001b[0;36mpandas._libs.hashtable.PyObjectHashTable.get_item\u001b[1;34m()\u001b[0m\n",
      "\u001b[1;32mpandas\\_libs\\hashtable_class_helper.pxi\u001b[0m in \u001b[0;36mpandas._libs.hashtable.PyObjectHashTable.get_item\u001b[1;34m()\u001b[0m\n",
      "\u001b[1;31mKeyError\u001b[0m: 1",
      "\nThe above exception was the direct cause of the following exception:\n",
      "\u001b[1;31mKeyError\u001b[0m                                  Traceback (most recent call last)",
      "\u001b[1;32m~\\AppData\\Local\\Temp/ipykernel_21460/612352409.py\u001b[0m in \u001b[0;36m<module>\u001b[1;34m\u001b[0m\n\u001b[0;32m      1\u001b[0m \u001b[1;32mimport\u001b[0m \u001b[0mbibliograph\u001b[0m \u001b[1;32mas\u001b[0m \u001b[0mbg\u001b[0m\u001b[1;33m\u001b[0m\u001b[1;33m\u001b[0m\u001b[0m\n\u001b[0;32m      2\u001b[0m \u001b[1;33m\u001b[0m\u001b[0m\n\u001b[1;32m----> 3\u001b[1;33m tn = bg.slurp_bibtex(\n\u001b[0m\u001b[0;32m      4\u001b[0m     \u001b[1;34m'bibliograph/test_data/NCAR_papers.bib'\u001b[0m\u001b[1;33m,\u001b[0m\u001b[1;33m\u001b[0m\u001b[1;33m\u001b[0m\u001b[0m\n\u001b[0;32m      5\u001b[0m     \u001b[0mentry_syntax_fname\u001b[0m\u001b[1;33m=\u001b[0m\u001b[1;34m\"bibliograph/resources/default_bibtex_syntax.csv\"\u001b[0m\u001b[1;33m,\u001b[0m\u001b[1;33m\u001b[0m\u001b[1;33m\u001b[0m\u001b[0m\n",
      "\u001b[1;32mc:\\Users\\short\\Dropbox\\jd\\60-69 projects\\61 public\\61.02 bibliograph\\bibliograph\\core.py\u001b[0m in \u001b[0;36mslurp_bibtex\u001b[1;34m(bibtex_fname, entry_syntax_fname, syntax_case_sensitive, allow_redundant_items, aliases_dict, aliases_case_sensitive, automatic_aliasing, link_constraints_fname, links_excluded_from_edges, encoding, **kwargs)\u001b[0m\n\u001b[0;32m   1404\u001b[0m     \u001b[0mtextnet_build_parameters\u001b[0m\u001b[1;33m[\u001b[0m\u001b[1;34m'allow_redundant_items'\u001b[0m\u001b[1;33m]\u001b[0m \u001b[1;33m=\u001b[0m \u001b[0mallow_redundant_items\u001b[0m\u001b[1;33m\u001b[0m\u001b[1;33m\u001b[0m\u001b[0m\n\u001b[0;32m   1405\u001b[0m \u001b[1;33m\u001b[0m\u001b[0m\n\u001b[1;32m-> 1406\u001b[1;33m     tn = textnet_from_parsed_shorthand(\n\u001b[0m\u001b[0;32m   1407\u001b[0m         \u001b[0mparsed\u001b[0m\u001b[1;33m,\u001b[0m\u001b[1;33m\u001b[0m\u001b[1;33m\u001b[0m\u001b[0m\n\u001b[0;32m   1408\u001b[0m         \u001b[0minp_string\u001b[0m\u001b[1;33m,\u001b[0m\u001b[1;33m\u001b[0m\u001b[1;33m\u001b[0m\u001b[0m\n",
      "\u001b[1;32mc:\\Users\\short\\Dropbox\\jd\\60-69 projects\\61 public\\61.02 bibliograph\\bibliograph\\core.py\u001b[0m in \u001b[0;36mtextnet_from_parsed_shorthand\u001b[1;34m(parsed, inp_string, aliases_dict, aliases_case_sensitive, automatic_aliasing, link_constraints_fname, links_excluded_from_edges, textnet_build_parameters)\u001b[0m\n\u001b[0;32m   1201\u001b[0m             \u001b[1;32mfor\u001b[0m \u001b[0mk\u001b[0m \u001b[1;32min\u001b[0m \u001b[0malias_generators\u001b[0m\u001b[1;33m.\u001b[0m\u001b[0mkeys\u001b[0m\u001b[1;33m(\u001b[0m\u001b[1;33m)\u001b[0m\u001b[1;33m\u001b[0m\u001b[1;33m\u001b[0m\u001b[0m\n\u001b[0;32m   1202\u001b[0m         }\n\u001b[1;32m-> 1203\u001b[1;33m         aliases = {\n\u001b[0m\u001b[0;32m   1204\u001b[0m             \u001b[0mk\u001b[0m\u001b[1;33m:\u001b[0m \u001b[0malias_generators\u001b[0m\u001b[1;33m[\u001b[0m\u001b[0mk\u001b[0m\u001b[1;33m]\u001b[0m\u001b[1;33m(\u001b[0m\u001b[0mv\u001b[0m\u001b[1;33m[\u001b[0m\u001b[1;34m'string'\u001b[0m\u001b[1;33m]\u001b[0m\u001b[1;33m)\u001b[0m\u001b[1;33m\u001b[0m\u001b[1;33m\u001b[0m\u001b[0m\n\u001b[0;32m   1205\u001b[0m             \u001b[1;32mfor\u001b[0m \u001b[0mk\u001b[0m\u001b[1;33m,\u001b[0m \u001b[0mv\u001b[0m \u001b[1;32min\u001b[0m \u001b[0mdict\u001b[0m\u001b[1;33m(\u001b[0m\u001b[0mstrings\u001b[0m\u001b[1;33m)\u001b[0m\u001b[1;33m.\u001b[0m\u001b[0mitems\u001b[0m\u001b[1;33m(\u001b[0m\u001b[1;33m)\u001b[0m\u001b[1;33m\u001b[0m\u001b[1;33m\u001b[0m\u001b[0m\n",
      "\u001b[1;32mc:\\Users\\short\\Dropbox\\jd\\60-69 projects\\61 public\\61.02 bibliograph\\bibliograph\\core.py\u001b[0m in \u001b[0;36m<dictcomp>\u001b[1;34m(.0)\u001b[0m\n\u001b[0;32m   1202\u001b[0m         }\n\u001b[0;32m   1203\u001b[0m         aliases = {\n\u001b[1;32m-> 1204\u001b[1;33m             \u001b[0mk\u001b[0m\u001b[1;33m:\u001b[0m \u001b[0malias_generators\u001b[0m\u001b[1;33m[\u001b[0m\u001b[0mk\u001b[0m\u001b[1;33m]\u001b[0m\u001b[1;33m(\u001b[0m\u001b[0mv\u001b[0m\u001b[1;33m[\u001b[0m\u001b[1;34m'string'\u001b[0m\u001b[1;33m]\u001b[0m\u001b[1;33m)\u001b[0m\u001b[1;33m\u001b[0m\u001b[1;33m\u001b[0m\u001b[0m\n\u001b[0m\u001b[0;32m   1205\u001b[0m             \u001b[1;32mfor\u001b[0m \u001b[0mk\u001b[0m\u001b[1;33m,\u001b[0m \u001b[0mv\u001b[0m \u001b[1;32min\u001b[0m \u001b[0mdict\u001b[0m\u001b[1;33m(\u001b[0m\u001b[0mstrings\u001b[0m\u001b[1;33m)\u001b[0m\u001b[1;33m.\u001b[0m\u001b[0mitems\u001b[0m\u001b[1;33m(\u001b[0m\u001b[1;33m)\u001b[0m\u001b[1;33m\u001b[0m\u001b[1;33m\u001b[0m\u001b[0m\n\u001b[0;32m   1206\u001b[0m         }\n",
      "\u001b[1;32mc:\\Users\\short\\Dropbox\\jd\\60-69 projects\\61 public\\61.02 bibliograph\\bibliograph\\alias_generators.py\u001b[0m in \u001b[0;36mwestern_surname_alias_generator_vector\u001b[1;34m(name_series, drop_nouns, generationals, partial_surnames, exclusions)\u001b[0m\n\u001b[0;32m    154\u001b[0m \u001b[1;33m\u001b[0m\u001b[0m\n\u001b[0;32m    155\u001b[0m             \u001b[1;32mtry\u001b[0m\u001b[1;33m:\u001b[0m\u001b[1;33m\u001b[0m\u001b[1;33m\u001b[0m\u001b[0m\n\u001b[1;32m--> 156\u001b[1;33m                 \u001b[0msplit_names\u001b[0m\u001b[1;33m.\u001b[0m\u001b[0mloc\u001b[0m\u001b[1;33m[\u001b[0m\u001b[0mslctn_idx\u001b[0m\u001b[1;33m,\u001b[0m \u001b[1;36m0\u001b[0m\u001b[1;33m]\u001b[0m \u001b[1;33m=\u001b[0m \u001b[0mselection\u001b[0m\u001b[1;33m[\u001b[0m\u001b[1;36m1\u001b[0m\u001b[1;33m]\u001b[0m\u001b[1;33m\u001b[0m\u001b[1;33m\u001b[0m\u001b[0m\n\u001b[0m\u001b[0;32m    157\u001b[0m                 \u001b[0msplit_names\u001b[0m\u001b[1;33m.\u001b[0m\u001b[0mloc\u001b[0m\u001b[1;33m[\u001b[0m\u001b[0mslctn_idx\u001b[0m\u001b[1;33m,\u001b[0m \u001b[1;36m1\u001b[0m\u001b[1;33m]\u001b[0m \u001b[1;33m=\u001b[0m \u001b[0mselection\u001b[0m\u001b[1;33m[\u001b[0m\u001b[1;36m0\u001b[0m\u001b[1;33m]\u001b[0m\u001b[1;33m\u001b[0m\u001b[1;33m\u001b[0m\u001b[0m\n\u001b[0;32m    158\u001b[0m             \u001b[1;32mexcept\u001b[0m \u001b[0mKeyError\u001b[0m\u001b[1;33m:\u001b[0m\u001b[1;33m\u001b[0m\u001b[1;33m\u001b[0m\u001b[0m\n",
      "\u001b[1;32m~\\AppData\\Local\\Packages\\PythonSoftwareFoundation.Python.3.9_qbz5n2kfra8p0\\LocalCache\\local-packages\\Python39\\site-packages\\pandas\\core\\frame.py\u001b[0m in \u001b[0;36m__getitem__\u001b[1;34m(self, key)\u001b[0m\n\u001b[0;32m   3802\u001b[0m             \u001b[1;32mif\u001b[0m \u001b[0mself\u001b[0m\u001b[1;33m.\u001b[0m\u001b[0mcolumns\u001b[0m\u001b[1;33m.\u001b[0m\u001b[0mnlevels\u001b[0m \u001b[1;33m>\u001b[0m \u001b[1;36m1\u001b[0m\u001b[1;33m:\u001b[0m\u001b[1;33m\u001b[0m\u001b[1;33m\u001b[0m\u001b[0m\n\u001b[0;32m   3803\u001b[0m                 \u001b[1;32mreturn\u001b[0m \u001b[0mself\u001b[0m\u001b[1;33m.\u001b[0m\u001b[0m_getitem_multilevel\u001b[0m\u001b[1;33m(\u001b[0m\u001b[0mkey\u001b[0m\u001b[1;33m)\u001b[0m\u001b[1;33m\u001b[0m\u001b[1;33m\u001b[0m\u001b[0m\n\u001b[1;32m-> 3804\u001b[1;33m             \u001b[0mindexer\u001b[0m \u001b[1;33m=\u001b[0m \u001b[0mself\u001b[0m\u001b[1;33m.\u001b[0m\u001b[0mcolumns\u001b[0m\u001b[1;33m.\u001b[0m\u001b[0mget_loc\u001b[0m\u001b[1;33m(\u001b[0m\u001b[0mkey\u001b[0m\u001b[1;33m)\u001b[0m\u001b[1;33m\u001b[0m\u001b[1;33m\u001b[0m\u001b[0m\n\u001b[0m\u001b[0;32m   3805\u001b[0m             \u001b[1;32mif\u001b[0m \u001b[0mis_integer\u001b[0m\u001b[1;33m(\u001b[0m\u001b[0mindexer\u001b[0m\u001b[1;33m)\u001b[0m\u001b[1;33m:\u001b[0m\u001b[1;33m\u001b[0m\u001b[1;33m\u001b[0m\u001b[0m\n\u001b[0;32m   3806\u001b[0m                 \u001b[0mindexer\u001b[0m \u001b[1;33m=\u001b[0m \u001b[1;33m[\u001b[0m\u001b[0mindexer\u001b[0m\u001b[1;33m]\u001b[0m\u001b[1;33m\u001b[0m\u001b[1;33m\u001b[0m\u001b[0m\n",
      "\u001b[1;32m~\\AppData\\Local\\Packages\\PythonSoftwareFoundation.Python.3.9_qbz5n2kfra8p0\\LocalCache\\local-packages\\Python39\\site-packages\\pandas\\core\\indexes\\base.py\u001b[0m in \u001b[0;36mget_loc\u001b[1;34m(self, key, method, tolerance)\u001b[0m\n\u001b[0;32m   3803\u001b[0m                 \u001b[1;32mreturn\u001b[0m \u001b[0mself\u001b[0m\u001b[1;33m.\u001b[0m\u001b[0m_engine\u001b[0m\u001b[1;33m.\u001b[0m\u001b[0mget_loc\u001b[0m\u001b[1;33m(\u001b[0m\u001b[0mcasted_key\u001b[0m\u001b[1;33m)\u001b[0m\u001b[1;33m\u001b[0m\u001b[1;33m\u001b[0m\u001b[0m\n\u001b[0;32m   3804\u001b[0m             \u001b[1;32mexcept\u001b[0m \u001b[0mKeyError\u001b[0m \u001b[1;32mas\u001b[0m \u001b[0merr\u001b[0m\u001b[1;33m:\u001b[0m\u001b[1;33m\u001b[0m\u001b[1;33m\u001b[0m\u001b[0m\n\u001b[1;32m-> 3805\u001b[1;33m                 \u001b[1;32mraise\u001b[0m \u001b[0mKeyError\u001b[0m\u001b[1;33m(\u001b[0m\u001b[0mkey\u001b[0m\u001b[1;33m)\u001b[0m \u001b[1;32mfrom\u001b[0m \u001b[0merr\u001b[0m\u001b[1;33m\u001b[0m\u001b[1;33m\u001b[0m\u001b[0m\n\u001b[0m\u001b[0;32m   3806\u001b[0m             \u001b[1;32mexcept\u001b[0m \u001b[0mTypeError\u001b[0m\u001b[1;33m:\u001b[0m\u001b[1;33m\u001b[0m\u001b[1;33m\u001b[0m\u001b[0m\n\u001b[0;32m   3807\u001b[0m                 \u001b[1;31m# If we have a listlike key, _check_indexing_error will raise\u001b[0m\u001b[1;33m\u001b[0m\u001b[1;33m\u001b[0m\u001b[0m\n",
      "\u001b[1;31mKeyError\u001b[0m: 1"
     ]
    }
   ],
   "source": [
    "import bibliograph as bg\n",
    "\n",
    "tn = bg.slurp_bibtex(\n",
    "    'bibliograph/test_data/NCAR_papers.bib',\n",
    "    entry_syntax_fname=\"bibliograph/resources/default_bibtex_syntax.csv\",\n",
    "    syntax_case_sensitive=False,\n",
    "    allow_redundant_items=True,\n",
    "    automatic_aliasing=True,\n",
    "    link_constraints_fname='bibliograph/resources/default_link_constraints.csv',\n",
    "    space_char='|',\n",
    "    na_string_values='!',\n",
    "    na_node_type='missing',\n",
    ")\n",
    "\n",
    "tn.strings"
   ]
  },
  {
   "cell_type": "code",
   "execution_count": 3,
   "metadata": {},
   "outputs": [
    {
     "name": "stdout",
     "output_type": "stream",
     "text": [
      "                         0                    1\n",
      "0                     loon               h. van\n",
      "1                 van loon                   h.\n",
      "2                 van loon                harry\n",
      "3                 van loon                    h\n",
      "4                 van loon                     \n",
      "6          rodríguez-silva               ileana\n",
      "8       martin luther king                  jr.\n",
      "9                     king    martin luther jr.\n",
      "10  mr. martin luther king                  jr.\n",
      "11            st. whatever           given name\n",
      "12                whatever       given name st.\n",
      "15             ms. gerould               joanne\n",
      "16                 gerould           ms. joanne\n",
      "17                 gerould               joanne\n",
      "18                 gerould               joanne\n",
      "19                 surname  compound given-name\n",
      "20                   monde             alice le\n",
      "21                le monde                alice\n",
      "22                 sheeley                  jr.\n",
      "                         0    1\n",
      "8       martin luther king  jr.\n",
      "10  mr. martin luther king  jr.\n",
      "22                 sheeley  jr.\n",
      "                         0                    1\n",
      "0                     loon               h. van\n",
      "1                 van loon                   h.\n",
      "2                 van loon                harry\n",
      "3                 van loon                    h\n",
      "4                 van loon                     \n",
      "6          rodríguez-silva               ileana\n",
      "8       martin luther king                  jr.\n",
      "9                     king    martin luther jr.\n",
      "10  mr. martin luther king                  jr.\n",
      "11            st. whatever           given name\n",
      "12                whatever       given name st.\n",
      "15             ms. gerould               joanne\n",
      "16                 gerould           ms. joanne\n",
      "18                 gerould               joanne\n",
      "19                 surname  compound given-name\n",
      "20                   monde             alice le\n",
      "21                le monde                alice\n",
      "Int64Index([8, 10], dtype='int64')\n",
      "                    0     1\n",
      "8       martin luther  king\n",
      "10  mr. martin luther  king\n"
     ]
    },
    {
     "data": {
      "text/plain": [
       "0            vanloonh\n",
       "1            vanloonh\n",
       "2            vanloonh\n",
       "3            vanloonh\n",
       "4             vanloon\n",
       "5            personso\n",
       "6     rodríguezsilvai\n",
       "7                <NA>\n",
       "8             kingmlj\n",
       "9             kingmlj\n",
       "10            kingmlj\n",
       "11       stwhatevergn\n",
       "12       stwhatevergn\n",
       "13               <NA>\n",
       "14               <NA>\n",
       "15           gerouldj\n",
       "16           gerouldj\n",
       "17           gerouldj\n",
       "18           gerouldj\n",
       "19         surnamecgn\n",
       "20           lemondea\n",
       "21           lemondea\n",
       "22               <NA>\n",
       "dtype: object"
      ]
     },
     "execution_count": 3,
     "metadata": {},
     "output_type": "execute_result"
    }
   ],
   "source": [
    "import pandas as pd\n",
    "from bibliograph.alias_generators import western_surname_alias_generator_serial\n",
    "from bibliograph.alias_generators import western_surname_alias_generator_vector\n",
    "\n",
    "\n",
    "names = pd.Series([\n",
    "    'Loon, H. van',\n",
    "    'van Loon, h.',\n",
    "    'van Loon, Harry',\n",
    "    'VAN LOON, H',\n",
    "    'Van loon, ',\n",
    "    'some other person',\n",
    "    'Rodríguez-Silva, Ileana',\n",
    "    'nasa',\n",
    "    'Martin Luther King, jr.',\n",
    "    'King, Martin Luther jr.',\n",
    "    'Mr. Martin Luther King, jr.',\n",
    "    'St. Whatever, Given Name',\n",
    "    'Whatever, Given Name St.',\n",
    "    'University of Washington, Seattle',\n",
    "    'University of Chicago',\n",
    "    'Ms. Gerould, Joanne',\n",
    "    'Gerould, Ms. Joanne',\n",
    "    'Gerould, Joanne, Ms.',\n",
    "    'Joanne Gerould, Ms.',\n",
    "    'Surname, Compound Given-Name',\n",
    "    'Monde, Alice le',\n",
    "    'le Monde, Alice',\n",
    "    'Sheeley, Jr., N. R.',\n",
    "    'Newkirk, Jr., G.'\n",
    "])\n",
    "\n",
    "serial = names.map(western_surname_alias_generator_serial)\n",
    "vector = western_surname_alias_generator_vector(names)\n",
    "((serial == vector) | (serial.isna() & vector.isna())).all()\n",
    "vector"
   ]
  },
  {
   "cell_type": "code",
   "execution_count": null,
   "metadata": {},
   "outputs": [],
   "source": []
  }
 ],
 "metadata": {
  "kernelspec": {
   "display_name": "Python 3.9.13 64-bit (windows store)",
   "language": "python",
   "name": "python3"
  },
  "language_info": {
   "codemirror_mode": {
    "name": "ipython",
    "version": 3
   },
   "file_extension": ".py",
   "mimetype": "text/x-python",
   "name": "python",
   "nbconvert_exporter": "python",
   "pygments_lexer": "ipython3",
   "version": "3.9.13"
  },
  "orig_nbformat": 4,
  "vscode": {
   "interpreter": {
    "hash": "815b2be54127abaf32a64efea7cd3ff17cdf2bced9eda4b4c37568bb3e1c75a5"
   }
  }
 },
 "nbformat": 4,
 "nbformat_minor": 2
}
