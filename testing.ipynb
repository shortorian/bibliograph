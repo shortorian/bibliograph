{
 "cells": [
  {
   "cell_type": "code",
   "execution_count": 13,
   "metadata": {},
   "outputs": [],
   "source": [
    "import bibliograph as bg\n",
    "\n",
    "\n",
    "aliases_dict = {\n",
    "    'actor': 'bibliograph/test_data/aliases_actor.csv',\n",
    "    'work': 'bibliograph/test_data/aliases_work.csv'\n",
    "}\n",
    "\n",
    "tn = bg.slurp_shorthand(\n",
    "    'bibliograph/test_data/shorthand_with_aliases.shnd',\n",
    "    \"bibliograph/resources/default_entry_syntax.csv\",\n",
    "    \"bibliograph/resources/default_link_syntax.csv\",\n",
    "    syntax_case_sensitive=False,\n",
    "    aliases_dict=aliases_dict,\n",
    "    aliases_case_sensitive=False,\n",
    "    item_separator='__',\n",
    "    space_char='|',\n",
    "    na_string_values='!',\n",
    "    na_node_type='missing',\n",
    "    default_entry_prefix='wrk',\n",
    "    skiprows=2,\n",
    "    comment_char='#',\n",
    ")\n",
    "\n",
    "assert len(tn.resolve_assertions().query('link_type == \"alias\"')) == 17"
   ]
  },
  {
   "cell_type": "code",
   "execution_count": 1,
   "metadata": {},
   "outputs": [
    {
     "name": "stdout",
     "output_type": "stream",
     "text": [
      "============================= test session starts =============================\n",
      "platform win32 -- Python 3.9.13, pytest-7.1.2, pluggy-1.0.0\n",
      "rootdir: c:\\Users\\short\\Dropbox\\jd\\60-69 projects\\61 public\\61.02 bibliograph\n",
      "plugins: anyio-3.4.0\n",
      "collected 15 items\n",
      "\n",
      "bibliograph\\tests.py ...............                                     [100%]\n",
      "\n",
      "============================= 15 passed in 4.38s ==============================\n"
     ]
    }
   ],
   "source": [
    "!pytest bibliograph/tests.py"
   ]
  }
 ],
 "metadata": {
  "kernelspec": {
   "display_name": "Python 3.9.13 64-bit (windows store)",
   "language": "python",
   "name": "python3"
  },
  "language_info": {
   "codemirror_mode": {
    "name": "ipython",
    "version": 3
   },
   "file_extension": ".py",
   "mimetype": "text/x-python",
   "name": "python",
   "nbconvert_exporter": "python",
   "pygments_lexer": "ipython3",
   "version": "3.9.13"
  },
  "orig_nbformat": 4,
  "vscode": {
   "interpreter": {
    "hash": "815b2be54127abaf32a64efea7cd3ff17cdf2bced9eda4b4c37568bb3e1c75a5"
   }
  }
 },
 "nbformat": 4,
 "nbformat_minor": 2
}
