{
 "cells": [
  {
   "cell_type": "code",
   "execution_count": null,
   "metadata": {},
   "outputs": [],
   "source": [
    "import pandas as pd\n",
    "import sqlite3\n",
    "\n",
    "db_name = 'bgdb'\n",
    "\n",
    "db = sqlite3.connect(db_name + '.sqlite')\n",
    "cursor = db.cursor()\n",
    "\n",
    "with open(db_name + '.sql', 'r') as f:\n",
    "    sql_script = f.read()\n",
    "    cursor.executescript(sql_script)\n",
    "\n",
    "db.commit()\n",
    "db.close()\n",
    "\n",
    "con_string = 'sqlite:///' + db_name + '.sqlite'\n",
    "\n",
    "schema = pd.read_sql(\"select * from sqlite_schema\", con_string)\n",
    "schema.loc[schema['type']=='table', :]"
   ]
  },
  {
   "cell_type": "code",
   "execution_count": 1,
   "metadata": {},
   "outputs": [
    {
     "data": {
      "text/html": [
       "<div>\n",
       "<style scoped>\n",
       "    .dataframe tbody tr th:only-of-type {\n",
       "        vertical-align: middle;\n",
       "    }\n",
       "\n",
       "    .dataframe tbody tr th {\n",
       "        vertical-align: top;\n",
       "    }\n",
       "\n",
       "    .dataframe thead th {\n",
       "        text-align: right;\n",
       "    }\n",
       "</style>\n",
       "<table border=\"1\" class=\"dataframe\">\n",
       "  <thead>\n",
       "    <tr style=\"text-align: right;\">\n",
       "      <th></th>\n",
       "      <th>node_type_id</th>\n",
       "      <th>comment_id</th>\n",
       "      <th>node_type</th>\n",
       "      <th>comment</th>\n",
       "      <th>date_inserted</th>\n",
       "      <th>date_modified</th>\n",
       "    </tr>\n",
       "  </thead>\n",
       "  <tbody>\n",
       "    <tr>\n",
       "      <th>0</th>\n",
       "      <td>0</td>\n",
       "      <td>0</td>\n",
       "      <td>document</td>\n",
       "      <td>a document is any kind of object that contains...</td>\n",
       "      <td>2022-01-07 22:39:21</td>\n",
       "      <td>None</td>\n",
       "    </tr>\n",
       "    <tr>\n",
       "      <th>1</th>\n",
       "      <td>1</td>\n",
       "      <td>1</td>\n",
       "      <td>agent</td>\n",
       "      <td>an agent is any actor that could be responsibl...</td>\n",
       "      <td>2022-01-07 22:39:21</td>\n",
       "      <td>None</td>\n",
       "    </tr>\n",
       "    <tr>\n",
       "      <th>2</th>\n",
       "      <td>2</td>\n",
       "      <td>2</td>\n",
       "      <td>periodical</td>\n",
       "      <td>a periodical is any publication released at re...</td>\n",
       "      <td>2022-01-07 22:39:21</td>\n",
       "      <td>None</td>\n",
       "    </tr>\n",
       "  </tbody>\n",
       "</table>\n",
       "</div>"
      ],
      "text/plain": [
       "   node_type_id  comment_id   node_type  \\\n",
       "0             0           0    document   \n",
       "1             1           1       agent   \n",
       "2             2           2  periodical   \n",
       "\n",
       "                                             comment        date_inserted  \\\n",
       "0  a document is any kind of object that contains...  2022-01-07 22:39:21   \n",
       "1  an agent is any actor that could be responsibl...  2022-01-07 22:39:21   \n",
       "2  a periodical is any publication released at re...  2022-01-07 22:39:21   \n",
       "\n",
       "  date_modified  \n",
       "0          None  \n",
       "1          None  \n",
       "2          None  "
      ]
     },
     "execution_count": 1,
     "metadata": {},
     "output_type": "execute_result"
    }
   ],
   "source": [
    "from bibliograph.sql_functions import get_tables_from_sql_script\n",
    "\n",
    "a = get_tables_from_sql_script('bibliograph/resources/bgdb.sql', set_dtypes=False)\n",
    "a['node_types'].merge(a['comments'], on='comment_id')"
   ]
  },
  {
   "cell_type": "code",
   "execution_count": 2,
   "metadata": {},
   "outputs": [
    {
     "data": {
      "text/plain": [
       "node_type_id      int64\n",
       "comment_id        int64\n",
       "node_type        object\n",
       "comment          object\n",
       "date_inserted    object\n",
       "date_modified    object\n",
       "dtype: object"
      ]
     },
     "execution_count": 2,
     "metadata": {},
     "output_type": "execute_result"
    }
   ],
   "source": [
    "a['node_types'].merge(a['comments'], on='comment_id').dtypes"
   ]
  },
  {
   "cell_type": "code",
   "execution_count": null,
   "metadata": {},
   "outputs": [],
   "source": []
  }
 ],
 "metadata": {
  "interpreter": {
   "hash": "13eb0af71620a846e484681143862ad0a4deab6cadfc353264e5c14897c11035"
  },
  "kernelspec": {
   "display_name": "Python 3.9.9 64-bit",
   "language": "python",
   "name": "python3"
  },
  "language_info": {
   "codemirror_mode": {
    "name": "ipython",
    "version": 3
   },
   "file_extension": ".py",
   "mimetype": "text/x-python",
   "name": "python",
   "nbconvert_exporter": "python",
   "pygments_lexer": "ipython3",
   "version": "3.9.9"
  },
  "orig_nbformat": 4
 },
 "nbformat": 4,
 "nbformat_minor": 2
}
